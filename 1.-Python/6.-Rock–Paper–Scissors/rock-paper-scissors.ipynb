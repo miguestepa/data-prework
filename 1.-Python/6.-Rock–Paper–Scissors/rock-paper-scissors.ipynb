{
 "cells": [
  {
   "cell_type": "markdown",
   "metadata": {},
   "source": [
    "<img src=\"https://bit.ly/2VnXWr2\" width=\"100\" align=\"left\">"
   ]
  },
  {
   "cell_type": "markdown",
   "metadata": {},
   "source": [
    "# Rock, Paper & Scissors\n",
    "\n",
    "Let's play the famous game against our computer. You can check the rules [here](https://en.wikipedia.org/wiki/Rock%E2%80%93paper%E2%80%93scissors). \n",
    "\n",
    "## Task\n",
    "Create a program that imitates the playability of the well known game of rock, paper, scissors. Follow the guidelines provided.\n",
    "\n",
    "## Tools\n",
    "1. Loop: **for/while**\n",
    "2. Functions: **input(), print()...**\n",
    "3. Conditional statements: **if, elif, else**\n",
    "4. Definition of functions. Modular programming\n",
    "5. Import modules\n",
    "\n",
    "**To solve this challenge, the use of functions is recommended.**\n",
    "\n",
    "#### 1. Import the choice function of the random module."
   ]
  },
  {
   "cell_type": "code",
   "execution_count": 1,
   "metadata": {},
   "outputs": [],
   "source": [
    "import random as r"
   ]
  },
  {
   "cell_type": "markdown",
   "metadata": {},
   "source": [
    "#### 2. Create a list that includes the 3 possible gesture options of the game: 'rock', 'paper' or 'scissors'. Store the list in a variable called `gestures`."
   ]
  },
  {
   "cell_type": "code",
   "execution_count": 2,
   "metadata": {},
   "outputs": [],
   "source": [
    "gestures = [\"rock\", \"paper\", \"scissors\"]"
   ]
  },
  {
   "cell_type": "markdown",
   "metadata": {},
   "source": [
    "#### 3. Create a variable called `n_rounds` to store the maximum number of rounds to play in a game. \n",
    "Remember that the number of rounds must be odd: 1, 3, 5, ..."
   ]
  },
  {
   "cell_type": "code",
   "execution_count": 3,
   "metadata": {},
   "outputs": [],
   "source": [
    "total_rounds = 3"
   ]
  },
  {
   "cell_type": "markdown",
   "metadata": {},
   "source": [
    "#### 4. Create a variable called `rounds_to_win` to store the number of rounds that a player must win to win the game.\n",
    "**Hint**: the value stored in `rounds_to_win` depends on the value of `n_rounds`. "
   ]
  },
  {
   "cell_type": "code",
   "execution_count": 4,
   "metadata": {},
   "outputs": [
    {
     "ename": "NameError",
     "evalue": "name 'n_rounds' is not defined",
     "output_type": "error",
     "traceback": [
      "\u001b[1;31m---------------------------------------------------------------------------\u001b[0m",
      "\u001b[1;31mNameError\u001b[0m                                 Traceback (most recent call last)",
      "\u001b[1;32m<ipython-input-4-eb56fd52acb7>\u001b[0m in \u001b[0;36m<module>\u001b[1;34m\u001b[0m\n\u001b[1;32m----> 1\u001b[1;33m \u001b[0mrounds_to_win\u001b[0m \u001b[1;33m=\u001b[0m \u001b[1;33m(\u001b[0m\u001b[0mround\u001b[0m\u001b[1;33m(\u001b[0m\u001b[0mn_rounds\u001b[0m\u001b[1;33m/\u001b[0m\u001b[1;36m2\u001b[0m\u001b[1;33m)\u001b[0m\u001b[1;33m)\u001b[0m\u001b[1;33m\u001b[0m\u001b[1;33m\u001b[0m\u001b[0m\n\u001b[0m",
      "\u001b[1;31mNameError\u001b[0m: name 'n_rounds' is not defined"
     ]
    }
   ],
   "source": [
    "rounds_to_win = (round(n_rounds/2))"
   ]
  },
  {
   "cell_type": "markdown",
   "metadata": {},
   "source": [
    "#### 5. Create two variables to store the number of rounds that the computer and the player have won. Call these variables `cpu_score` and `player_score`."
   ]
  },
  {
   "cell_type": "code",
   "execution_count": null,
   "metadata": {},
   "outputs": [],
   "source": [
    "cpu_score = 0\n",
    "player_score = 0"
   ]
  },
  {
   "cell_type": "markdown",
   "metadata": {},
   "source": [
    "#### 6. Define a function that randomly returns one of the 3 gesture options.\n",
    "You will use this function to simulate the gesture choice of the computer. "
   ]
  },
  {
   "cell_type": "code",
   "execution_count": null,
   "metadata": {},
   "outputs": [],
   "source": [
    "def cpu_rps():\n",
    "    cpu_rps.gesture = gestures[r.randint(0,2)]\n",
    "    \n",
    "\n",
    "    \n"
   ]
  },
  {
   "cell_type": "markdown",
   "metadata": {},
   "source": [
    "#### 7. Define a function that asks the player which is the gesture he or she wants to show: 'rock', 'paper' or 'scissors'.\n",
    "The player should only be allowed to choose one of the 3 gesture options. If the player's choice is not rock, paper or scissors, keep asking until it is."
   ]
  },
  {
   "cell_type": "code",
   "execution_count": null,
   "metadata": {},
   "outputs": [],
   "source": [
    "# Since in Python functions are objects, the variables are define as \n",
    "# properties of an object so they can be used in other functions.\n",
    "\n",
    "def ask():\n",
    "    ask.player = str(input(\"What do you want to show? rock, paper or scissors?\"))\n",
    "    while ask.player not in (\"rock\", \"paper\", \"scissors\"):\n",
    "        ask.player = str(input(\"\"\"Sorry, that's not a valid option. \n",
    "        What do you want to show? \n",
    "        rock, paper or scissors? \n",
    "        Remember to use lowercase letters.\"\"\"))\n",
    "    "
   ]
  },
  {
   "cell_type": "markdown",
   "metadata": {},
   "source": [
    "#### 8. Define a function that checks who won a round. \n",
    "The function should return 0 if there is a tie, 1 if the computer wins and 2 if the player wins."
   ]
  },
  {
   "cell_type": "code",
   "execution_count": null,
   "metadata": {},
   "outputs": [],
   "source": [
    "def evaluate():\n",
    "    evaluate.possibilities = {0: \"Tie.\", 1: \"The CPU Wins.\", 2: \"The player Wins.\"}\n",
    "    if ask.player == \"rock\":\n",
    "        if cpu_rps.gesture == \"scissors\":\n",
    "            evaluate.result = evaluate.possibilities[2]       \n",
    "        if cpu_rps.gesture == \"paper\":\n",
    "            evaluate.result = evaluate.possibilities[1] \n",
    "        if ask.player == cpu_rps.gesture:\n",
    "            evaluate.result = evaluate.possibilities[0] \n",
    "    if ask.player == \"paper\":\n",
    "        if cpu_rps.gesture == \"scissors\":\n",
    "            evaluate.result = evaluate.possibilities[1] \n",
    "        if cpu_rps.gesture == \"rock\":\n",
    "            evaluate.result = evaluate.possibilities[2]\n",
    "        if ask.player == cpu_rps.gesture:\n",
    "            evaluate.result = evaluate.possibilities[0]\n",
    "    if ask.player == \"scissors\":\n",
    "        if cpu_rps.gesture == \"paper\":\n",
    "            evaluate.result = evaluate.possibilities[2]\n",
    "        if cpu_rps.gesture == \"rock\":\n",
    "            evaluate.result = evaluate.possibilities[1]  \n",
    "        if ask.player == cpu_rps.gesture:\n",
    "            evaluate.result = evaluate.possibilities[0]\n",
    "    \n",
    "        "
   ]
  },
  {
   "cell_type": "markdown",
   "metadata": {},
   "source": [
    "#### 9. Define a function that prints the choice of the computer, the choice of the player and a message that announces who won the current round. \n",
    "You should also use this function to update the variables that count the number of rounds that the computer and the player have won. The score of the winner increases by one point. If there is a tie, the score does not increase."
   ]
  },
  {
   "cell_type": "code",
   "execution_count": null,
   "metadata": {},
   "outputs": [],
   "source": [
    "# Since in Python functions are objects, the variables are define as \n",
    "# properties of an object so they can be used in other functions.\n",
    "\n",
    "# Using Global, variables outside the def can be used and changed.\n",
    "\n",
    "def prints():\n",
    "    global cpu_score\n",
    "    global player_score\n",
    "    global rounds\n",
    "    if evaluate.result == evaluate.possibilities[0]:\n",
    "        print(\"You chose %s.\" % (ask.player))\n",
    "        print(\"CPU chose %s.\" % (cpu_rps.gesture))\n",
    "        print(\"Round %d: Tie.\" % (rounds))\n",
    "        \n",
    "    if evaluate.result == evaluate.possibilities[1]:\n",
    "        print(\"You chose %s.\" % (ask.player))\n",
    "        print(\"CPU chose %s.\" % (cpu_rps.gesture))\n",
    "        print(\"Round %d: CPU Wins.\" % (rounds))\n",
    "        cpu_score += 1\n",
    "\n",
    "    if evaluate.result == evaluate.possibilities[2]:\n",
    "        print(\"You chose %s.\" % (ask.player))\n",
    "        print(\"CPU chose %s.\" % (cpu_rps.gesture))\n",
    "        print(\"Round %d: Player Wins.\" % (rounds))\n",
    "        player_score += 1\n",
    "    \n",
    "\n",
    "\n",
    "\n"
   ]
  },
  {
   "cell_type": "markdown",
   "metadata": {},
   "source": [
    "#### 10. Now it's time to code the execution of the game using the functions and variables you defined above. \n",
    "\n",
    "First, create a loop structure that repeats while no player reaches the minimum score necessary to win and the number of rounds is less than the maximum number of rounds to play in a game.  \n",
    "\n",
    "Inside the loop, use the functions and variables above to create the execution of a round: ask for the player's choice, generate the random choice of the computer, show the round results, update the scores, etc. "
   ]
  },
  {
   "cell_type": "code",
   "execution_count": null,
   "metadata": {},
   "outputs": [],
   "source": [
    "import random as r\n",
    "\n",
    "gestures = [\"rock\", \"paper\", \"scissors\"]\n",
    "\n",
    "total_rounds = 3\n",
    "rounds = 0\n",
    "\n",
    "rounds_to_win = (round(total_rounds/2))\n",
    "\n",
    "cpu_score = 0\n",
    "player_score = 0\n",
    "\n",
    "while rounds < total_rounds:\n",
    "    rounds +=1\n",
    "    cpu_rps()\n",
    "    ask()\n",
    "    evaluate()\n",
    "    prints()\n",
    "\n",
    "        \n",
    "\n",
    "\n",
    "\n"
   ]
  },
  {
   "cell_type": "markdown",
   "metadata": {},
   "source": [
    "#### 11. Print the winner of the game based on who won more rounds.\n",
    "Remember that the game might be tied. "
   ]
  },
  {
   "cell_type": "code",
   "execution_count": null,
   "metadata": {},
   "outputs": [],
   "source": [
    "if player_score == rounds_to_win or player_score > cpu_score:\n",
    "    print(\"PLAYER WINS!\")\n",
    "if cpu_score == rounds_to_win or player_score < cpu_score:\n",
    "    print(\"CPU WINS!\")\n",
    "if player_score == cpu_score:\n",
    "    print(\"TIE!\")"
   ]
  },
  {
   "cell_type": "markdown",
   "metadata": {},
   "source": [
    "# Bonus: Rock, Paper, Scissors, Lizard & Spock\n",
    "![](images/rpsls.jpg)\n",
    "\n",
    "In this challenge, you need to improve the previous game by adding two new options. To know more about the rules of the improved version of rock, paper, scissors, check this [link](http://www.samkass.com/theories/RPSSL.html). \n",
    "\n",
    "In addition, you will also need to improve how the game interacts with the player: the number of rounds to play, which must be an odd number, will be requested to the user until a valid number is entered. Define a new function to make that request.\n",
    "\n",
    "**Hint**: Try to reuse the code that you already coded in the previous challenge. If your code is efficient, this bonus will only consist of simple modifications to the original game."
   ]
  },
  {
   "cell_type": "code",
   "execution_count": null,
   "metadata": {},
   "outputs": [
    {
     "name": "stdout",
     "output_type": "stream",
     "text": [
      "What do you want to show? rock, paper or scissors?spock\n",
      "You chose spock.\n",
      "CPU chose spock.\n",
      "Round 1/3: Tie.\n"
     ]
    }
   ],
   "source": [
    "import random as r\n",
    "\n",
    "gestures = [\"rock\", \"paper\", \"scissors\", \"lizard\", \"spock\"]\n",
    "\n",
    "total_rounds = 3\n",
    "rounds = 0\n",
    "\n",
    "rounds_to_win = (round(total_rounds/2))\n",
    "\n",
    "cpu_score = 0\n",
    "player_score = 0\n",
    "\n",
    "def cpu_rps():\n",
    "    cpu_rps.gesture = gestures[r.randint(0,4)]\n",
    "    \n",
    "# Since in Python functions are objects, the variables are define as \n",
    "# properties of an object so they can be used in other functions.\n",
    "\n",
    "def ask():\n",
    "    ask.player = str(input(\"What do you want to show? rock, paper or scissors?\"))\n",
    "    while ask.player not in (\"rock\", \"paper\", \"scissors\", \"lizard\", \"spock\"):\n",
    "        ask.player = str(input(\"\"\"Sorry, that's not a valid option. \n",
    "        What do you want to show? \n",
    "        rock, paper, scissors, lizard, spock?\n",
    "        Remember to use lowercase letters.\"\"\"))\n",
    "        \n",
    "def evaluate():\n",
    "    evaluate.possibilities = {0: \"Tie.\", 1: \"The CPU Wins.\", 2: \"The player Wins.\"}\n",
    "    if ask.player == \"rock\":\n",
    "        if cpu_rps.gesture in [\"scissors\", \"lizard\"]:\n",
    "            evaluate.result = evaluate.possibilities[2]       \n",
    "        if cpu_rps.gesture in [\"paper\", \"spock\"]:\n",
    "            evaluate.result = evaluate.possibilities[1] \n",
    "        if ask.player == cpu_rps.gesture:\n",
    "            evaluate.result = evaluate.possibilities[0]          \n",
    "    if ask.player == \"paper\":\n",
    "        if cpu_rps.gesture in [\"scissors\", \"lizard\"]:\n",
    "            evaluate.result = evaluate.possibilities[1] \n",
    "        if cpu_rps.gesture in [\"rock\", \"spock\"]:\n",
    "            evaluate.result = evaluate.possibilities[2]\n",
    "        if ask.player == cpu_rps.gesture:\n",
    "            evaluate.result = evaluate.possibilities[0]\n",
    "    if ask.player == \"scissors\":\n",
    "        if cpu_rps.gesture in [\"paper\", \"lizard\"]:\n",
    "            evaluate.result = evaluate.possibilities[2]\n",
    "        if cpu_rps.gesture in [\"rock\", \"spock\"]:\n",
    "            evaluate.result = evaluate.possibilities[1]  \n",
    "        if ask.player == cpu_rps.gesture:\n",
    "            evaluate.result = evaluate.possibilities[0]\n",
    "    if ask.player == \"lizard\":\n",
    "        if cpu_rps.gesture in [\"paper\", \"spock\"]:\n",
    "            evaluate.result = evaluate.possibilities[2]\n",
    "        if cpu_rps.gesture in [\"rock\", \"scissors\"]:\n",
    "            evaluate.result = evaluate.possibilities[1]  \n",
    "        if ask.player == cpu_rps.gesture:\n",
    "            evaluate.result = evaluate.possibilities[0]\n",
    "    if ask.player == \"spock\":\n",
    "        if cpu_rps.gesture in [\"rock\", \"scissors\"]:\n",
    "            evaluate.result = evaluate.possibilities[2]\n",
    "        if cpu_rps.gesture in [\"paper\", \"lizard\"]:\n",
    "            evaluate.result = evaluate.possibilities[1]  \n",
    "        if ask.player == cpu_rps.gesture:\n",
    "            evaluate.result = evaluate.possibilities[0]\n",
    "\n",
    "# Since in Python functions are objects, the variables are define as \n",
    "# properties of an object so they can be used in other functions.\n",
    "\n",
    "# Using Global, variables outside the def can be used and changed.\n",
    "\n",
    "def prints():\n",
    "    global cpu_score\n",
    "    global player_score\n",
    "    global rounds\n",
    "    if evaluate.result == evaluate.possibilities[0]:\n",
    "        print(\"You chose %s.\" % (ask.player))\n",
    "        print(\"CPU chose %s.\" % (cpu_rps.gesture))\n",
    "        print(\"Round %d/%d: Tie.\" % (rounds,total_rounds))\n",
    "        \n",
    "    if evaluate.result == evaluate.possibilities[1]:\n",
    "        print(\"You chose %s.\" % (ask.player))\n",
    "        print(\"CPU chose %s.\" % (cpu_rps.gesture))\n",
    "        print(\"Round %d/%d: CPU Wins.\" % (rounds,total_rounds))\n",
    "        cpu_score += 1\n",
    "\n",
    "    if evaluate.result == evaluate.possibilities[2]:\n",
    "        print(\"You chose %s.\" % (ask.player))\n",
    "        print(\"CPU chose %s.\" % (cpu_rps.gesture))\n",
    "        print(\"Round %d/%d: Player Wins.\" % (rounds,total_rounds))\n",
    "        player_score += 1\n",
    "        \n",
    "while rounds < total_rounds:\n",
    "    rounds +=1\n",
    "    cpu_rps()\n",
    "    ask()\n",
    "    evaluate()\n",
    "    prints()\n",
    "    \n",
    "if player_score == rounds_to_win or player_score > cpu_score:\n",
    "    print(\"PLAYER WINS!\")\n",
    "if cpu_score == rounds_to_win or player_score < cpu_score:\n",
    "    print(\"CPU WINS!\")\n",
    "if player_score == cpu_score:\n",
    "    print(\"TIE!\")"
   ]
  }
 ],
 "metadata": {
  "kernelspec": {
   "display_name": "Python 3",
   "language": "python",
   "name": "python3"
  },
  "language_info": {
   "codemirror_mode": {
    "name": "ipython",
    "version": 3
   },
   "file_extension": ".py",
   "mimetype": "text/x-python",
   "name": "python",
   "nbconvert_exporter": "python",
   "pygments_lexer": "ipython3",
   "version": "3.8.2"
  }
 },
 "nbformat": 4,
 "nbformat_minor": 2
}
